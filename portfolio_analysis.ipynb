{
 "cells": [
  {
   "cell_type": "markdown",
   "id": "ff11010f-0a9d-49a5-9c0b-387506119af3",
   "metadata": {},
   "source": [
    "Value at Risk of a portfolio, using the variance covariance method"
   ]
  },
  {
   "cell_type": "code",
   "execution_count": 63,
   "id": "25fb088c-6489-4596-a1bf-afc55127745e",
   "metadata": {},
   "outputs": [],
   "source": [
    "import yfinance as yf\n",
    "import pandas as pd\n",
    "import numpy as np\n",
    "import matplotlib.pyplot as plt\n",
    "import matplotlib.dates as mdates\n",
    "import datetime as datetime\n",
    "import time\n",
    "import os\n",
    "import seaborn as sns\n",
    "import plotly.express as px\n",
    "import plotly.graph_objects as go\n",
    "%run finance.ipynb #import of the functions defined in the finance.ipynb notebook"
   ]
  },
  {
   "cell_type": "markdown",
   "id": "2d6eed99-d04d-4ea0-87a7-9d7cceaf4c02",
   "metadata": {},
   "source": [
    "Select the stocks to include in our portfolio"
   ]
  },
  {
   "cell_type": "code",
   "execution_count": 3,
   "id": "7154eb06-02af-44e6-ad22-3705e16ebc86",
   "metadata": {},
   "outputs": [],
   "source": [
    "tickers = ['AAPL','GS','COST','DIS','JD']\n",
    "start_date = '2019-01-01'\n",
    "end_date = '2023-04-22'"
   ]
  },
  {
   "cell_type": "code",
   "execution_count": 47,
   "id": "1d650688-4b91-464b-b4e5-a0ea7c59084d",
   "metadata": {},
   "outputs": [
    {
     "name": "stdout",
     "output_type": "stream",
     "text": [
      "[*********************100%***********************]  1 of 1 completed\n",
      "[*********************100%***********************]  1 of 1 completed\n",
      "[*********************100%***********************]  1 of 1 completed\n",
      "[*********************100%***********************]  1 of 1 completed\n",
      "[*********************100%***********************]  1 of 1 completed\n"
     ]
    }
   ],
   "source": [
    "ptf = getPtf(tickers,start_date,end_date)"
   ]
  },
  {
   "cell_type": "markdown",
   "id": "cf846f88-bdf3-45a0-8f7b-cfc52941f89a",
   "metadata": {},
   "source": [
    "Assign random weights to the stocks"
   ]
  },
  {
   "cell_type": "code",
   "execution_count": 35,
   "id": "cd1083c3-9ce5-49f7-bcee-8ce9d8e547c8",
   "metadata": {},
   "outputs": [
    {
     "name": "stdout",
     "output_type": "stream",
     "text": [
      "[0.25118646 0.19953308 0.15977842 0.16648649 0.22301555]\n"
     ]
    }
   ],
   "source": [
    "#try the returns on the portfolio\n",
    "n = randomWeights(len(ptf.columns.levels[0]))\n",
    "ptf_t = list()\n",
    "ptf_agg = pd.DataFrame()\n",
    "print(n)"
   ]
  },
  {
   "cell_type": "code",
   "execution_count": 36,
   "id": "6993fab7-4088-4690-8fdd-cc1753c0d3ac",
   "metadata": {},
   "outputs": [],
   "source": [
    "for each in ptf.loc[:,ptf.columns.levels[0][0]].columns:\n",
    "    test = ptf.xs(each, level = 1, axis = 1)*n\n",
    "    test_2 = pd.DataFrame(test.sum(axis = 1))\n",
    "    test_2.columns = [each]\n",
    "    ptf_t.append(test_2)\n",
    "ptf_agg = pd.concat(ptf_t, axis = 1)\n",
    "ptf_agg['Daily Return'] = ptf_agg['Adj Close'].pct_change()\n",
    "ptf_agg['Log Return'] = np.log(ptf_agg['Adj Close']/ptf_agg['Adj Close'].shift(1)) #np.log(1+df['adj close'].pct_change())\n",
    "ptf_agg['Cumulative Return'] = np.exp(np.log1p(ptf_agg['Daily Return']).cumsum())\n",
    "ptf_agg.drop('Volume',inplace = True)"
   ]
  },
  {
   "cell_type": "code",
   "execution_count": 42,
   "id": "a9329fbe-7392-4d26-a1fb-b01f73ca5248",
   "metadata": {},
   "outputs": [
    {
     "data": {
      "text/html": [
       "<div>\n",
       "<style scoped>\n",
       "    .dataframe tbody tr th:only-of-type {\n",
       "        vertical-align: middle;\n",
       "    }\n",
       "\n",
       "    .dataframe tbody tr th {\n",
       "        vertical-align: top;\n",
       "    }\n",
       "\n",
       "    .dataframe thead th {\n",
       "        text-align: right;\n",
       "    }\n",
       "</style>\n",
       "<table border=\"1\" class=\"dataframe\">\n",
       "  <thead>\n",
       "    <tr style=\"text-align: right;\">\n",
       "      <th></th>\n",
       "      <th>Open</th>\n",
       "      <th>High</th>\n",
       "      <th>Low</th>\n",
       "      <th>Close</th>\n",
       "      <th>Adj Close</th>\n",
       "      <th>Volume</th>\n",
       "      <th>Adj Open</th>\n",
       "      <th>Adj High</th>\n",
       "      <th>Adj Low</th>\n",
       "      <th>Daily Return</th>\n",
       "      <th>Log Return</th>\n",
       "      <th>Cumulative Return</th>\n",
       "      <th>MA 10 Days</th>\n",
       "      <th>MA 20 Days</th>\n",
       "      <th>MA 50 Days</th>\n",
       "    </tr>\n",
       "    <tr>\n",
       "      <th>Date</th>\n",
       "      <th></th>\n",
       "      <th></th>\n",
       "      <th></th>\n",
       "      <th></th>\n",
       "      <th></th>\n",
       "      <th></th>\n",
       "      <th></th>\n",
       "      <th></th>\n",
       "      <th></th>\n",
       "      <th></th>\n",
       "      <th></th>\n",
       "      <th></th>\n",
       "      <th></th>\n",
       "      <th></th>\n",
       "      <th></th>\n",
       "    </tr>\n",
       "  </thead>\n",
       "  <tbody>\n",
       "    <tr>\n",
       "      <th>2019-01-02</th>\n",
       "      <td>94.701140</td>\n",
       "      <td>97.476883</td>\n",
       "      <td>94.290851</td>\n",
       "      <td>97.247409</td>\n",
       "      <td>91.958415</td>\n",
       "      <td>3.996894e+07</td>\n",
       "      <td>89.585401</td>\n",
       "      <td>92.177057</td>\n",
       "      <td>89.199433</td>\n",
       "      <td>NaN</td>\n",
       "      <td>NaN</td>\n",
       "      <td>NaN</td>\n",
       "      <td>0.000000</td>\n",
       "      <td>0.000000</td>\n",
       "      <td>0.000000</td>\n",
       "    </tr>\n",
       "    <tr>\n",
       "      <th>2019-01-03</th>\n",
       "      <td>95.879527</td>\n",
       "      <td>96.615960</td>\n",
       "      <td>94.122197</td>\n",
       "      <td>94.499557</td>\n",
       "      <td>89.336172</td>\n",
       "      <td>8.938000e+07</td>\n",
       "      <td>90.654164</td>\n",
       "      <td>91.346632</td>\n",
       "      <td>88.983026</td>\n",
       "      <td>-0.028516</td>\n",
       "      <td>-0.028930</td>\n",
       "      <td>0.971484</td>\n",
       "      <td>0.000000</td>\n",
       "      <td>0.000000</td>\n",
       "      <td>0.000000</td>\n",
       "    </tr>\n",
       "    <tr>\n",
       "      <th>2019-01-04</th>\n",
       "      <td>96.113902</td>\n",
       "      <td>98.601785</td>\n",
       "      <td>95.302652</td>\n",
       "      <td>97.826977</td>\n",
       "      <td>92.486914</td>\n",
       "      <td>6.169203e+07</td>\n",
       "      <td>90.858530</td>\n",
       "      <td>93.224307</td>\n",
       "      <td>90.096315</td>\n",
       "      <td>0.035268</td>\n",
       "      <td>0.034661</td>\n",
       "      <td>1.005747</td>\n",
       "      <td>0.000000</td>\n",
       "      <td>0.000000</td>\n",
       "      <td>0.000000</td>\n",
       "    </tr>\n",
       "    <tr>\n",
       "      <th>2019-01-07</th>\n",
       "      <td>97.866485</td>\n",
       "      <td>99.284602</td>\n",
       "      <td>96.736795</td>\n",
       "      <td>98.404138</td>\n",
       "      <td>93.035957</td>\n",
       "      <td>5.583042e+07</td>\n",
       "      <td>92.527226</td>\n",
       "      <td>93.864687</td>\n",
       "      <td>91.469384</td>\n",
       "      <td>0.005936</td>\n",
       "      <td>0.005919</td>\n",
       "      <td>1.011718</td>\n",
       "      <td>0.000000</td>\n",
       "      <td>0.000000</td>\n",
       "      <td>0.000000</td>\n",
       "    </tr>\n",
       "    <tr>\n",
       "      <th>2019-01-08</th>\n",
       "      <td>99.356861</td>\n",
       "      <td>99.804218</td>\n",
       "      <td>97.507097</td>\n",
       "      <td>98.920128</td>\n",
       "      <td>93.537654</td>\n",
       "      <td>4.297871e+07</td>\n",
       "      <td>93.938262</td>\n",
       "      <td>94.368529</td>\n",
       "      <td>92.212688</td>\n",
       "      <td>0.005393</td>\n",
       "      <td>0.005378</td>\n",
       "      <td>1.017173</td>\n",
       "      <td>0.000000</td>\n",
       "      <td>0.000000</td>\n",
       "      <td>0.000000</td>\n",
       "    </tr>\n",
       "    <tr>\n",
       "      <th>...</th>\n",
       "      <td>...</td>\n",
       "      <td>...</td>\n",
       "      <td>...</td>\n",
       "      <td>...</td>\n",
       "      <td>...</td>\n",
       "      <td>...</td>\n",
       "      <td>...</td>\n",
       "      <td>...</td>\n",
       "      <td>...</td>\n",
       "      <td>...</td>\n",
       "      <td>...</td>\n",
       "      <td>...</td>\n",
       "      <td>...</td>\n",
       "      <td>...</td>\n",
       "      <td>...</td>\n",
       "    </tr>\n",
       "    <tr>\n",
       "      <th>2023-04-17</th>\n",
       "      <td>200.869036</td>\n",
       "      <td>202.771776</td>\n",
       "      <td>199.825376</td>\n",
       "      <td>201.892753</td>\n",
       "      <td>201.892753</td>\n",
       "      <td>1.406652e+07</td>\n",
       "      <td>200.869039</td>\n",
       "      <td>202.771773</td>\n",
       "      <td>199.825379</td>\n",
       "      <td>0.006315</td>\n",
       "      <td>0.006295</td>\n",
       "      <td>2.195479</td>\n",
       "      <td>200.038891</td>\n",
       "      <td>198.114563</td>\n",
       "      <td>201.208117</td>\n",
       "    </tr>\n",
       "    <tr>\n",
       "      <th>2023-04-18</th>\n",
       "      <td>200.611991</td>\n",
       "      <td>202.709950</td>\n",
       "      <td>199.487742</td>\n",
       "      <td>201.726937</td>\n",
       "      <td>201.726937</td>\n",
       "      <td>1.663584e+07</td>\n",
       "      <td>200.611989</td>\n",
       "      <td>202.709950</td>\n",
       "      <td>199.487743</td>\n",
       "      <td>-0.000821</td>\n",
       "      <td>-0.000822</td>\n",
       "      <td>2.193676</td>\n",
       "      <td>200.088361</td>\n",
       "      <td>198.541901</td>\n",
       "      <td>200.959400</td>\n",
       "    </tr>\n",
       "    <tr>\n",
       "      <th>2023-04-19</th>\n",
       "      <td>201.001393</td>\n",
       "      <td>202.423082</td>\n",
       "      <td>199.874512</td>\n",
       "      <td>201.749531</td>\n",
       "      <td>201.749531</td>\n",
       "      <td>1.566553e+07</td>\n",
       "      <td>201.001390</td>\n",
       "      <td>202.423084</td>\n",
       "      <td>199.874514</td>\n",
       "      <td>0.000112</td>\n",
       "      <td>0.000112</td>\n",
       "      <td>2.193921</td>\n",
       "      <td>200.223028</td>\n",
       "      <td>198.838395</td>\n",
       "      <td>200.725943</td>\n",
       "    </tr>\n",
       "    <tr>\n",
       "      <th>2023-04-20</th>\n",
       "      <td>200.678071</td>\n",
       "      <td>204.424182</td>\n",
       "      <td>200.221727</td>\n",
       "      <td>202.995594</td>\n",
       "      <td>202.995594</td>\n",
       "      <td>1.725705e+07</td>\n",
       "      <td>200.678070</td>\n",
       "      <td>204.424183</td>\n",
       "      <td>200.221725</td>\n",
       "      <td>0.006176</td>\n",
       "      <td>0.006157</td>\n",
       "      <td>2.207472</td>\n",
       "      <td>200.563540</td>\n",
       "      <td>199.299245</td>\n",
       "      <td>200.480693</td>\n",
       "    </tr>\n",
       "    <tr>\n",
       "      <th>2023-04-21</th>\n",
       "      <td>203.137256</td>\n",
       "      <td>204.587114</td>\n",
       "      <td>201.728791</td>\n",
       "      <td>203.404887</td>\n",
       "      <td>203.404887</td>\n",
       "      <td>1.805291e+07</td>\n",
       "      <td>203.137256</td>\n",
       "      <td>204.587115</td>\n",
       "      <td>201.728791</td>\n",
       "      <td>0.002016</td>\n",
       "      <td>0.002014</td>\n",
       "      <td>2.211923</td>\n",
       "      <td>201.080850</td>\n",
       "      <td>199.727849</td>\n",
       "      <td>200.302132</td>\n",
       "    </tr>\n",
       "  </tbody>\n",
       "</table>\n",
       "<p>1084 rows × 15 columns</p>\n",
       "</div>"
      ],
      "text/plain": [
       "                  Open        High         Low       Close   Adj Close  \\\n",
       "Date                                                                     \n",
       "2019-01-02   94.701140   97.476883   94.290851   97.247409   91.958415   \n",
       "2019-01-03   95.879527   96.615960   94.122197   94.499557   89.336172   \n",
       "2019-01-04   96.113902   98.601785   95.302652   97.826977   92.486914   \n",
       "2019-01-07   97.866485   99.284602   96.736795   98.404138   93.035957   \n",
       "2019-01-08   99.356861   99.804218   97.507097   98.920128   93.537654   \n",
       "...                ...         ...         ...         ...         ...   \n",
       "2023-04-17  200.869036  202.771776  199.825376  201.892753  201.892753   \n",
       "2023-04-18  200.611991  202.709950  199.487742  201.726937  201.726937   \n",
       "2023-04-19  201.001393  202.423082  199.874512  201.749531  201.749531   \n",
       "2023-04-20  200.678071  204.424182  200.221727  202.995594  202.995594   \n",
       "2023-04-21  203.137256  204.587114  201.728791  203.404887  203.404887   \n",
       "\n",
       "                  Volume    Adj Open    Adj High     Adj Low  Daily Return  \\\n",
       "Date                                                                         \n",
       "2019-01-02  3.996894e+07   89.585401   92.177057   89.199433           NaN   \n",
       "2019-01-03  8.938000e+07   90.654164   91.346632   88.983026     -0.028516   \n",
       "2019-01-04  6.169203e+07   90.858530   93.224307   90.096315      0.035268   \n",
       "2019-01-07  5.583042e+07   92.527226   93.864687   91.469384      0.005936   \n",
       "2019-01-08  4.297871e+07   93.938262   94.368529   92.212688      0.005393   \n",
       "...                  ...         ...         ...         ...           ...   \n",
       "2023-04-17  1.406652e+07  200.869039  202.771773  199.825379      0.006315   \n",
       "2023-04-18  1.663584e+07  200.611989  202.709950  199.487743     -0.000821   \n",
       "2023-04-19  1.566553e+07  201.001390  202.423084  199.874514      0.000112   \n",
       "2023-04-20  1.725705e+07  200.678070  204.424183  200.221725      0.006176   \n",
       "2023-04-21  1.805291e+07  203.137256  204.587115  201.728791      0.002016   \n",
       "\n",
       "            Log Return  Cumulative Return  MA 10 Days  MA 20 Days  MA 50 Days  \n",
       "Date                                                                           \n",
       "2019-01-02         NaN                NaN    0.000000    0.000000    0.000000  \n",
       "2019-01-03   -0.028930           0.971484    0.000000    0.000000    0.000000  \n",
       "2019-01-04    0.034661           1.005747    0.000000    0.000000    0.000000  \n",
       "2019-01-07    0.005919           1.011718    0.000000    0.000000    0.000000  \n",
       "2019-01-08    0.005378           1.017173    0.000000    0.000000    0.000000  \n",
       "...                ...                ...         ...         ...         ...  \n",
       "2023-04-17    0.006295           2.195479  200.038891  198.114563  201.208117  \n",
       "2023-04-18   -0.000822           2.193676  200.088361  198.541901  200.959400  \n",
       "2023-04-19    0.000112           2.193921  200.223028  198.838395  200.725943  \n",
       "2023-04-20    0.006157           2.207472  200.563540  199.299245  200.480693  \n",
       "2023-04-21    0.002014           2.211923  201.080850  199.727849  200.302132  \n",
       "\n",
       "[1084 rows x 15 columns]"
      ]
     },
     "execution_count": 42,
     "metadata": {},
     "output_type": "execute_result"
    }
   ],
   "source": [
    "ptf_agg"
   ]
  },
  {
   "cell_type": "code",
   "execution_count": 45,
   "id": "a0cebb51-7798-4c57-a029-90c97cc13e4e",
   "metadata": {},
   "outputs": [
    {
     "data": {
      "text/plain": [
       "<AxesSubplot:xlabel='Date'>"
      ]
     },
     "execution_count": 45,
     "metadata": {},
     "output_type": "execute_result"
    },
    {
     "data": {
      "image/png": "[encoded data removed]",
      "text/plain": [
       "<Figure size 1440x720 with 1 Axes>"
      ]
     },
     "metadata": {
      "needs_background": "light"
     },
     "output_type": "display_data"
    }
   ],
   "source": [
    "fig, ax1 = plt.subplots(figsize = (20,10))\n",
    "sns.lineplot(data = ptf_agg[['Adj Close','MA 10 Days','MA 20 Days','MA 50 Days']])"
   ]
  },
  {
   "cell_type": "markdown",
   "id": "073607d6-7b09-4798-8f0f-1b7f0c800558",
   "metadata": {},
   "source": [
    "The variance-covariance method looks at historical price movements (standard deviation, mean price) of a given equity or portfolio of equities over a specified lookback period. It then uses probability theory to calculate the maximum loss within your specified confidence interval."
   ]
  },
  {
   "cell_type": "markdown",
   "id": "7e2361ad-162b-4495-8e84-e55b96c618c6",
   "metadata": {},
   "source": [
    "Steps to calculate the VaR of a portfolio\n",
    "In order to calculate the VaR of a portfolio, you can follow the steps below:\n",
    "\n",
    "Calculate periodic returns of the stocks in the portfolio\n",
    "Create a covariance matrix based on the returns\n",
    "Calculate the portfolio mean and standard deviation\n",
    "(weighted based on investment levels of each stock in portfolio)\n",
    "\n",
    "Calculate the inverse of the normal cumulative distribution (PPF) with a specified confidence interval, standard deviation, and mean\n",
    "Estimate the value at risk (VaR) for the portfolio by subtracting the initial investment from the calculation"
   ]
  },
  {
   "cell_type": "markdown",
   "id": "2cb97f11-22d0-4d33-b00a-3975f9ecb39e",
   "metadata": {},
   "source": [
    "1) Create a covariance matrix based on the returns"
   ]
  },
  {
   "cell_type": "code",
   "execution_count": 65,
   "id": "2c3b3542-6def-4253-9e5d-13f9823067f6",
   "metadata": {},
   "outputs": [
    {
     "data": {
      "text/html": [
       "<div>\n",
       "<style scoped>\n",
       "    .dataframe tbody tr th:only-of-type {\n",
       "        vertical-align: middle;\n",
       "    }\n",
       "\n",
       "    .dataframe tbody tr th {\n",
       "        vertical-align: top;\n",
       "    }\n",
       "\n",
       "    .dataframe thead th {\n",
       "        text-align: right;\n",
       "    }\n",
       "</style>\n",
       "<table border=\"1\" class=\"dataframe\">\n",
       "  <thead>\n",
       "    <tr style=\"text-align: right;\">\n",
       "      <th></th>\n",
       "      <th>JD</th>\n",
       "      <th>DIS</th>\n",
       "      <th>COST</th>\n",
       "      <th>GS</th>\n",
       "      <th>AAPL</th>\n",
       "    </tr>\n",
       "  </thead>\n",
       "  <tbody>\n",
       "    <tr>\n",
       "      <th>JD</th>\n",
       "      <td>0.001191</td>\n",
       "      <td>0.000211</td>\n",
       "      <td>0.000132</td>\n",
       "      <td>0.000220</td>\n",
       "      <td>0.000306</td>\n",
       "    </tr>\n",
       "    <tr>\n",
       "      <th>DIS</th>\n",
       "      <td>0.000211</td>\n",
       "      <td>0.000473</td>\n",
       "      <td>0.000115</td>\n",
       "      <td>0.000283</td>\n",
       "      <td>0.000224</td>\n",
       "    </tr>\n",
       "    <tr>\n",
       "      <th>COST</th>\n",
       "      <td>0.000132</td>\n",
       "      <td>0.000115</td>\n",
       "      <td>0.000240</td>\n",
       "      <td>0.000126</td>\n",
       "      <td>0.000193</td>\n",
       "    </tr>\n",
       "    <tr>\n",
       "      <th>GS</th>\n",
       "      <td>0.000220</td>\n",
       "      <td>0.000283</td>\n",
       "      <td>0.000126</td>\n",
       "      <td>0.000462</td>\n",
       "      <td>0.000240</td>\n",
       "    </tr>\n",
       "    <tr>\n",
       "      <th>AAPL</th>\n",
       "      <td>0.000306</td>\n",
       "      <td>0.000224</td>\n",
       "      <td>0.000193</td>\n",
       "      <td>0.000240</td>\n",
       "      <td>0.000456</td>\n",
       "    </tr>\n",
       "  </tbody>\n",
       "</table>\n",
       "</div>"
      ],
      "text/plain": [
       "            JD       DIS      COST        GS      AAPL\n",
       "JD    0.001191  0.000211  0.000132  0.000220  0.000306\n",
       "DIS   0.000211  0.000473  0.000115  0.000283  0.000224\n",
       "COST  0.000132  0.000115  0.000240  0.000126  0.000193\n",
       "GS    0.000220  0.000283  0.000126  0.000462  0.000240\n",
       "AAPL  0.000306  0.000224  0.000193  0.000240  0.000456"
      ]
     },
     "execution_count": 65,
     "metadata": {},
     "output_type": "execute_result"
    }
   ],
   "source": [
    "cov_matrix = ptf.xs('Daily Return', level = 1, axis = 1).cov()\n",
    "cov_matrix"
   ]
  },
  {
   "cell_type": "markdown",
   "id": "be93e3c7-e25c-4a0b-a7f1-fb0441bb7e38",
   "metadata": {},
   "source": [
    "2) Calculate the portfolio mean and standard deviation"
   ]
  },
  {
   "cell_type": "code",
   "execution_count": 66,
   "id": "3f2f9e97-bdd9-477d-9edd-5c79233692fa",
   "metadata": {},
   "outputs": [],
   "source": [
    "#average returns for each stock\n",
    "avg_ret = ptf.xs('Daily Return', level = 1, axis = 1).mean()\n",
    "\n",
    "#calculate the mean returns and the std dev for the poortfolio, using the dot product to normalise against the weights\n",
    "port_mean = avg_ret.dot(n)\n",
    "port_stdev = np.sqrt(n.T.dot(cov_matrix).dot(n))\n",
    "\n",
    "\n",
    "initial_investment = 10000\n",
    "\n",
    "\n",
    "mean_investment = (1+port_mean) * initial_investment\n",
    "stdev_investment = initial_investment * port_stdev\n",
    "\n",
    "\n",
    "conf_level1 = 0.05"
   ]
  },
  {
   "cell_type": "markdown",
   "id": "f64bc53a-ced6-48bb-a88c-293980053e52",
   "metadata": {},
   "source": [
    "3) Calculate the inverse of the normal cumulative distribution (PPF) with a specified confidence interval, standard deviation, and mean"
   ]
  },
  {
   "cell_type": "code",
   "execution_count": 67,
   "id": "1764aad0-8c93-4008-b11a-dab82bae895c",
   "metadata": {},
   "outputs": [],
   "source": [
    "# Using SciPy ppf method to generate values for the\n",
    "# inverse cumulative distribution function to a normal distribution\n",
    "# Plugging in the mean, standard deviation of our portfolio\n",
    "# as calculated above\n",
    "from scipy.stats import norm\n",
    "cutoff1 = norm.ppf(conf_level1, mean_investment, stdev_investment)"
   ]
  },
  {
   "cell_type": "markdown",
   "id": "c5adc10c-eb60-4f1b-8eeb-4d124c657d62",
   "metadata": {},
   "source": [
    "4) Estimate the value at risk (VaR) for the portfolio by subtracting the initial investment from the calculation in step 4"
   ]
  },
  {
   "cell_type": "code",
   "execution_count": 69,
   "id": "74f5e068-598c-4d27-aa4a-4c95641936db",
   "metadata": {},
   "outputs": [
    {
     "data": {
      "text/plain": [
       "277.17993366370865"
      ]
     },
     "execution_count": 69,
     "metadata": {},
     "output_type": "execute_result"
    }
   ],
   "source": [
    "var_1d1 = initial_investment - cutoff1\n",
    "var_1d1"
   ]
  },
  {
   "cell_type": "markdown",
   "id": "d6231e20-2b56-405a-b28c-f72cc6c3fdc1",
   "metadata": {},
   "source": [
    "Here we are saying with 95% confidence that our portfolio of 10000 USD will not exceed losses greater than 227 USD over a one day period."
   ]
  },
  {
   "cell_type": "markdown",
   "id": "d2efdb77-7672-4168-809f-e2385c9e3ed3",
   "metadata": {},
   "source": [
    "Value at risk over n-day time period"
   ]
  },
  {
   "cell_type": "code",
   "execution_count": 73,
   "id": "52962576-cd29-4032-813f-2cd1f3bd42a9",
   "metadata": {},
   "outputs": [
    {
     "name": "stdout",
     "output_type": "stream",
     "text": [
      "1 day VaR @ 95% confidence: 277.18\n",
      "2 day VaR @ 95% confidence: 391.99\n",
      "3 day VaR @ 95% confidence: 480.09\n",
      "4 day VaR @ 95% confidence: 554.36\n",
      "5 day VaR @ 95% confidence: 619.79\n",
      "6 day VaR @ 95% confidence: 678.95\n",
      "7 day VaR @ 95% confidence: 733.35\n",
      "8 day VaR @ 95% confidence: 783.98\n",
      "9 day VaR @ 95% confidence: 831.54\n",
      "10 day VaR @ 95% confidence: 876.52\n",
      "11 day VaR @ 95% confidence: 919.3\n",
      "12 day VaR @ 95% confidence: 960.18\n",
      "13 day VaR @ 95% confidence: 999.39\n",
      "14 day VaR @ 95% confidence: 1037.11\n",
      "15 day VaR @ 95% confidence: 1073.51\n"
     ]
    },
    {
     "data": {
      "text/plain": [
       "[<matplotlib.lines.Line2D at 0x1f82f01f190>]"
      ]
     },
     "execution_count": 73,
     "metadata": {},
     "output_type": "execute_result"
    },
    {
     "data": {
      "image/png": "[encoded data removed]",
      "text/plain": [
       "<Figure size 432x288 with 1 Axes>"
      ]
     },
     "metadata": {
      "needs_background": "light"
     },
     "output_type": "display_data"
    }
   ],
   "source": [
    "# Calculate n Day VaR\n",
    "var_array = []\n",
    "num_days = int(15)\n",
    "for x in range(1, num_days+1):    \n",
    "    var_array.append(np.round(var_1d1 * np.sqrt(x),2))\n",
    "    print(str(x) + \" day VaR @ 95% confidence: \" + str(np.round(var_1d1 * np.sqrt(x),2)))\n",
    "\n",
    "# Build plot\n",
    "plt.xlabel(\"Day #\")\n",
    "plt.ylabel(\"Max portfolio loss (USD)\")\n",
    "plt.title(\"Max portfolio loss (VaR) over 15-day period\")\n",
    "plt.plot(var_array, \"r\")"
   ]
  },
  {
   "cell_type": "code",
   "execution_count": 59,
   "id": "d6bc4e2d-ef54-4e8b-8cc6-d47fde97ccf5",
   "metadata": {},
   "outputs": [],
   "source": []
  },
  {
   "cell_type": "code",
   "execution_count": null,
   "id": "4eca3709-3b0f-4bbc-a680-771224d43624",
   "metadata": {},
   "outputs": [],
   "source": []
  },
  {
   "cell_type": "code",
   "execution_count": null,
   "id": "e68a778c-69de-47b9-8ab1-483b58926340",
   "metadata": {},
   "outputs": [],
   "source": []
  }
 ],
 "metadata": {
  "kernelspec": {
   "display_name": "Python 3 (ipykernel)",
   "language": "python",
   "name": "python3"
  },
  "language_info": {
   "codemirror_mode": {
    "name": "ipython",
    "version": 3
   },
   "file_extension": ".py",
   "mimetype": "text/x-python",
   "name": "python",
   "nbconvert_exporter": "python",
   "pygments_lexer": "ipython3",
   "version": "3.9.12"
  }
 },
 "nbformat": 4,
 "nbformat_minor": 5
}
